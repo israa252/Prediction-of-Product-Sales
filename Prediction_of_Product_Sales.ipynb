{
  "nbformat": 4,
  "nbformat_minor": 0,
  "metadata": {
    "colab": {
      "provenance": [],
      "authorship_tag": "ABX9TyNjZmE8eYub0XNlKNidHtZE",
      "include_colab_link": true
    },
    "kernelspec": {
      "name": "python3",
      "display_name": "Python 3"
    },
    "language_info": {
      "name": "python"
    }
  },
  "cells": [
    {
      "cell_type": "markdown",
      "metadata": {
        "id": "view-in-github",
        "colab_type": "text"
      },
      "source": [
        "<a href=\"https://colab.research.google.com/github/israa252/Prediction-of-Product-Sales/blob/main/Prediction_of_Product_Sales.ipynb\" target=\"_parent\"><img src=\"https://colab.research.google.com/assets/colab-badge.svg\" alt=\"Open In Colab\"/></a>"
      ]
    },
    {
      "cell_type": "markdown",
      "source": [
        "# Prediction of Product Sales\n",
        "- Author: Israa Rasheed"
      ],
      "metadata": {
        "id": "SwApgp58t-2M"
      }
    },
    {
      "cell_type": "markdown",
      "source": [
        "## Project Overview"
      ],
      "metadata": {
        "id": "OLLsNxxKuJ0l"
      }
    },
    {
      "cell_type": "code",
      "source": [],
      "metadata": {
        "id": "_nuvClu4uM8o"
      },
      "execution_count": null,
      "outputs": []
    },
    {
      "cell_type": "markdown",
      "source": [
        "## Load and Inspect Data"
      ],
      "metadata": {
        "id": "3Yr4FmCtuNuC"
      }
    },
    {
      "cell_type": "code",
      "source": [],
      "metadata": {
        "id": "U4xC-QSzuRrZ"
      },
      "execution_count": null,
      "outputs": []
    },
    {
      "cell_type": "markdown",
      "source": [
        "## Clean Data"
      ],
      "metadata": {
        "id": "hosCBuV1uVOG"
      }
    },
    {
      "cell_type": "code",
      "source": [],
      "metadata": {
        "id": "c_3nPDzzuWBi"
      },
      "execution_count": null,
      "outputs": []
    },
    {
      "cell_type": "markdown",
      "source": [
        "## Exploratory Data Analysis"
      ],
      "metadata": {
        "id": "suf_EX0YuaiD"
      }
    },
    {
      "cell_type": "code",
      "source": [],
      "metadata": {
        "id": "zeR7Kg8yubv7"
      },
      "execution_count": null,
      "outputs": []
    }
  ]
}